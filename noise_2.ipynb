{
 "cells": [
  {
   "cell_type": "code",
   "execution_count": 2,
   "id": "f53990ee-3d9e-43f3-936c-51be4329abb8",
   "metadata": {},
   "outputs": [],
   "source": [
    "import numpy as np\n",
    "from fidelity import *\n",
    "from qiskit.quantum_info import state_fidelity"
   ]
  },
  {
   "cell_type": "code",
   "execution_count": 3,
   "id": "63c45df5-9786-4ce3-92ab-feef13271306",
   "metadata": {},
   "outputs": [
    {
     "name": "stdout",
     "output_type": "stream",
     "text": [
      "[0.96147264 1.07852655 0.98465529 0.99214864]\n",
      "[0.03303827 0.05162308 0.0691284  0.03810144]\n"
     ]
    }
   ],
   "source": [
    "Nq = 3\n",
    "Ns = 3000\n",
    "Nep = 100\n",
    "Nt = 10\n",
    "\n",
    "Nl, dmodel, Nh = 2, 64, 4\n",
    "\n",
    "pl = np.array([0.0, 0.1, 0.2, 0.3])\n",
    "Np = len(pl)\n",
    "qf = np.zeros((Np, Nt))\n",
    "qf0 = np.zeros((Np, Nt))\n",
    "\n",
    "\n",
    "dm_ref = np.load('noise_2/0.0/3_dm.npy')\n",
    "\n",
    "\n",
    "for n in range(Np):\n",
    "    p = pl[n]\n",
    "    path = 'noise_2/{:.1f}'.format(p)\n",
    "    dm_state = np.load('{}/{}_dm.npy'.format(path, Nq))\n",
    "\n",
    "    for nt in range(Nt):\n",
    "        dm_model = np.load('{}/{}_{}_{}_{}-{}-{}-{}_dm.npy'.format(path, Nq, Ns, nt, Nep, Nl, dmodel, Nh))\n",
    "        qf[n, nt] = state_fidelity(dm_model, dm_state, validate=False)\n",
    "        qf0[n, nt] = state_fidelity(dm_model, dm_ref, validate=False)\n",
    "        \n",
    "\n",
    "print(np.mean(qf, axis=1))\n",
    "print(np.std(qf, axis=1))\n",
    "\n",
    "qf0_m = np.mean(qf0, axis=1)\n",
    "qf0_s = np.std(qf0, axis=1)"
   ]
  },
  {
   "cell_type": "code",
   "execution_count": 8,
   "id": "7e69628b-4376-4442-a251-436d99476f9b",
   "metadata": {},
   "outputs": [
    {
     "data": {
      "image/png": "[encoded data removed]",
      "text/plain": [
       "<Figure size 432x288 with 1 Axes>"
      ]
     },
     "metadata": {
      "needs_background": "light"
     },
     "output_type": "display_data"
    }
   ],
   "source": [
    "fig, ax = plt.subplots()\n",
    "ax.plot([-1,1],[2,0], linestyle='--', color='0.7', linewidth=4, label='Exact')\n",
    "ax.errorbar(pl, qf0_m, yerr=qf0_s, marker='.', markersize=12, linewidth=2, color='tomato',label='AQT')\n",
    "\n",
    "ax.set_ybound(0.5,1.02)\n",
    "ax.set_xbound(-0.005, 0.305)\n",
    "\n",
    "ax.tick_params(axis='x', labelsize=14)\n",
    "ax.tick_params(axis='y', labelsize=14)\n",
    "ax.set_xlabel('$p$',size=14)\n",
    "ax.set_ylabel('$F_Q$',size=14)\n",
    "ax.legend(loc='lower left', fontsize=14)\n",
    "\n",
    "fig.savefig('figures/noise_2.pdf', dpi=300, bbox_inches=\"tight\")"
   ]
  },
  {
   "cell_type": "code",
   "execution_count": null,
   "id": "b7253e24-8472-44ac-aba8-f689c7a07248",
   "metadata": {},
   "outputs": [],
   "source": []
  }
 ],
 "metadata": {
  "kernelspec": {
   "display_name": "Python 3",
   "language": "python",
   "name": "python3"
  },
  "language_info": {
   "codemirror_mode": {
    "name": "ipython",
    "version": 3
   },
   "file_extension": ".py",
   "mimetype": "text/x-python",
   "name": "python",
   "nbconvert_exporter": "python",
   "pygments_lexer": "ipython3",
   "version": "3.8.8"
  }
 },
 "nbformat": 4,
 "nbformat_minor": 5
}
